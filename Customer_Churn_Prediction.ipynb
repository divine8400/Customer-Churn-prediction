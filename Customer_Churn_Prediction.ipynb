{
 "cells": [
  {
   "cell_type": "code",
   "execution_count": 1,
   "id": "e5235487-1309-438e-a969-9030e61d02a1",
   "metadata": {},
   "outputs": [
    {
     "name": "stdout",
     "output_type": "stream",
     "text": [
      "<class 'pandas.core.frame.DataFrame'>\n",
      "RangeIndex: 100000 entries, 0 to 99999\n",
      "Data columns (total 9 columns):\n",
      " #   Column                      Non-Null Count   Dtype  \n",
      "---  ------                      --------------   -----  \n",
      " 0   CustomerID                  100000 non-null  float64\n",
      " 1   Name                        100000 non-null  object \n",
      " 2   Age                         100000 non-null  float64\n",
      " 3   Gender                      100000 non-null  object \n",
      " 4   Location                    100000 non-null  object \n",
      " 5   Subscription_Length_Months  100000 non-null  float64\n",
      " 6   Monthly_Bill                100000 non-null  float64\n",
      " 7   Total_Usage_GB              100000 non-null  float64\n",
      " 8   Churn                       100000 non-null  float64\n",
      "dtypes: float64(6), object(3)\n",
      "memory usage: 6.9+ MB\n",
      "   CustomerID        Name   Age  Gender     Location  \\\n",
      "0         1.0  Customer_1  63.0    Male  Los Angeles   \n",
      "1         2.0  Customer_2  62.0  Female     New York   \n",
      "2         3.0  Customer_3  24.0  Female  Los Angeles   \n",
      "3         4.0  Customer_4  36.0  Female        Miami   \n",
      "4         5.0  Customer_5  46.0  Female        Miami   \n",
      "\n",
      "   Subscription_Length_Months  Monthly_Bill  Total_Usage_GB  Churn  \n",
      "0                        17.0         73.36           236.0    0.0  \n",
      "1                         1.0         48.76           172.0    0.0  \n",
      "2                         5.0         85.47           460.0    0.0  \n",
      "3                         3.0         97.94           297.0    1.0  \n",
      "4                        19.0         58.14           266.0    0.0  \n"
     ]
    }
   ],
   "source": [
    "import pandas as pd\n",
    "import matplotlib.pyplot as plt\n",
    "\n",
    "# Step 1: Load the Data\n",
    "data = pd.read_excel(\"C:/Users/Divine/Downloads/customer_churn_large_dataset.xlsx\")\n",
    "# Step 2: Check for Data Types and Missing Values\n",
    "data.info()\n",
    "print(data.head())\n",
    "\n"
   ]
  },
  {
   "cell_type": "code",
   "execution_count": 2,
   "id": "be30f556-f990-47e0-b288-cfe5eaadaa95",
   "metadata": {},
   "outputs": [
    {
     "name": "stdout",
     "output_type": "stream",
     "text": [
      "CustomerID                    0\n",
      "Name                          0\n",
      "Age                           0\n",
      "Gender                        0\n",
      "Location                      0\n",
      "Subscription_Length_Months    0\n",
      "Monthly_Bill                  0\n",
      "Total_Usage_GB                0\n",
      "Churn                         0\n",
      "dtype: int64\n"
     ]
    }
   ],
   "source": [
    "missing_data = data.isnull().sum()\n",
    "print(missing_data)"
   ]
  },
  {
   "cell_type": "code",
   "execution_count": 3,
   "id": "87c3202a-a9da-4073-b1e3-3d6ff8e03963",
   "metadata": {},
   "outputs": [
    {
     "name": "stdout",
     "output_type": "stream",
     "text": [
      "Number of Outliers in 'Monthly_Bill':0\n",
      "Number of Outliers in 'Total_Usage_GB':0\n",
      "Number of Outliers in 'Age':0\n",
      "Number of Outliers in 'Subscription_Length_Months':0\n"
     ]
    }
   ],
   "source": [
    "import numpy as np\n",
    "from scipy import stats\n",
    "columns_to_check = ['Monthly_Bill','Total_Usage_GB', 'Age', 'Subscription_Length_Months']\n",
    "z_scores = np.abs(stats.zscore(data['Monthly_Bill']))\n",
    "threshold = 2\n",
    "outlier_counts = {}\n",
    "for column_name in columns_to_check:\n",
    "    z_scores = np.abs(stats.zscore(data[column_name]))\n",
    "    outlier_count = len(z_scores[z_scores>threshold])\n",
    "    outlier_counts[column_name] = outlier_count\n",
    "for column_name, count in outlier_counts.items():\n",
    "    print(f\"Number of Outliers in '{column_name}':{count}\")"
   ]
  },
  {
   "cell_type": "code",
   "execution_count": 4,
   "id": "6f7fec48-7195-4cb3-9adf-8f7b0e02bccb",
   "metadata": {},
   "outputs": [
    {
     "data": {
      "text/html": [
       "<div>\n",
       "<style scoped>\n",
       "    .dataframe tbody tr th:only-of-type {\n",
       "        vertical-align: middle;\n",
       "    }\n",
       "\n",
       "    .dataframe tbody tr th {\n",
       "        vertical-align: top;\n",
       "    }\n",
       "\n",
       "    .dataframe thead th {\n",
       "        text-align: right;\n",
       "    }\n",
       "</style>\n",
       "<table border=\"1\" class=\"dataframe\">\n",
       "  <thead>\n",
       "    <tr style=\"text-align: right;\">\n",
       "      <th></th>\n",
       "      <th>CustomerID</th>\n",
       "      <th>Name</th>\n",
       "      <th>Age</th>\n",
       "      <th>Subscription_Length_Months</th>\n",
       "      <th>Monthly_Bill</th>\n",
       "      <th>Total_Usage_GB</th>\n",
       "      <th>Churn</th>\n",
       "      <th>Gender_Male</th>\n",
       "      <th>Location_Houston</th>\n",
       "      <th>Location_Los Angeles</th>\n",
       "      <th>Location_Miami</th>\n",
       "      <th>Location_New York</th>\n",
       "    </tr>\n",
       "  </thead>\n",
       "  <tbody>\n",
       "    <tr>\n",
       "      <th>0</th>\n",
       "      <td>1.0</td>\n",
       "      <td>Customer_1</td>\n",
       "      <td>63.0</td>\n",
       "      <td>17.0</td>\n",
       "      <td>73.36</td>\n",
       "      <td>236.0</td>\n",
       "      <td>0.0</td>\n",
       "      <td>1</td>\n",
       "      <td>0</td>\n",
       "      <td>1</td>\n",
       "      <td>0</td>\n",
       "      <td>0</td>\n",
       "    </tr>\n",
       "    <tr>\n",
       "      <th>1</th>\n",
       "      <td>2.0</td>\n",
       "      <td>Customer_2</td>\n",
       "      <td>62.0</td>\n",
       "      <td>1.0</td>\n",
       "      <td>48.76</td>\n",
       "      <td>172.0</td>\n",
       "      <td>0.0</td>\n",
       "      <td>0</td>\n",
       "      <td>0</td>\n",
       "      <td>0</td>\n",
       "      <td>0</td>\n",
       "      <td>1</td>\n",
       "    </tr>\n",
       "    <tr>\n",
       "      <th>2</th>\n",
       "      <td>3.0</td>\n",
       "      <td>Customer_3</td>\n",
       "      <td>24.0</td>\n",
       "      <td>5.0</td>\n",
       "      <td>85.47</td>\n",
       "      <td>460.0</td>\n",
       "      <td>0.0</td>\n",
       "      <td>0</td>\n",
       "      <td>0</td>\n",
       "      <td>1</td>\n",
       "      <td>0</td>\n",
       "      <td>0</td>\n",
       "    </tr>\n",
       "    <tr>\n",
       "      <th>3</th>\n",
       "      <td>4.0</td>\n",
       "      <td>Customer_4</td>\n",
       "      <td>36.0</td>\n",
       "      <td>3.0</td>\n",
       "      <td>97.94</td>\n",
       "      <td>297.0</td>\n",
       "      <td>1.0</td>\n",
       "      <td>0</td>\n",
       "      <td>0</td>\n",
       "      <td>0</td>\n",
       "      <td>1</td>\n",
       "      <td>0</td>\n",
       "    </tr>\n",
       "    <tr>\n",
       "      <th>4</th>\n",
       "      <td>5.0</td>\n",
       "      <td>Customer_5</td>\n",
       "      <td>46.0</td>\n",
       "      <td>19.0</td>\n",
       "      <td>58.14</td>\n",
       "      <td>266.0</td>\n",
       "      <td>0.0</td>\n",
       "      <td>0</td>\n",
       "      <td>0</td>\n",
       "      <td>0</td>\n",
       "      <td>1</td>\n",
       "      <td>0</td>\n",
       "    </tr>\n",
       "  </tbody>\n",
       "</table>\n",
       "</div>"
      ],
      "text/plain": [
       "   CustomerID        Name   Age  Subscription_Length_Months  Monthly_Bill  \\\n",
       "0         1.0  Customer_1  63.0                        17.0         73.36   \n",
       "1         2.0  Customer_2  62.0                         1.0         48.76   \n",
       "2         3.0  Customer_3  24.0                         5.0         85.47   \n",
       "3         4.0  Customer_4  36.0                         3.0         97.94   \n",
       "4         5.0  Customer_5  46.0                        19.0         58.14   \n",
       "\n",
       "   Total_Usage_GB  Churn  Gender_Male  Location_Houston  Location_Los Angeles  \\\n",
       "0           236.0    0.0            1                 0                     1   \n",
       "1           172.0    0.0            0                 0                     0   \n",
       "2           460.0    0.0            0                 0                     1   \n",
       "3           297.0    1.0            0                 0                     0   \n",
       "4           266.0    0.0            0                 0                     0   \n",
       "\n",
       "   Location_Miami  Location_New York  \n",
       "0               0                  0  \n",
       "1               0                  1  \n",
       "2               0                  0  \n",
       "3               1                  0  \n",
       "4               1                  0  "
      ]
     },
     "execution_count": 4,
     "metadata": {},
     "output_type": "execute_result"
    }
   ],
   "source": [
    "import pandas as pd\n",
    "data = pd.get_dummies(data, columns=['Gender', 'Location'], drop_first=True)\n",
    "data.head()"
   ]
  },
  {
   "cell_type": "code",
   "execution_count": 11,
   "id": "439cfd51-cf39-42f6-af7e-7405b8b23ead",
   "metadata": {},
   "outputs": [],
   "source": [
    "from sklearn.model_selection import train_test_split\n",
    "from sklearn.model_selection import train_test_split\n",
    "from sklearn.ensemble import RandomForestClassifier\n",
    "from sklearn.linear_model import LogisticRegression\n",
    "from sklearn.neighbors import KNeighborsClassifier\n",
    "from sklearn.svm import SVC\n",
    "from sklearn.tree import DecisionTreeClassifier\n",
    "from sklearn.preprocessing import MinMaxScaler\n",
    "from sklearn.metrics import accuracy_score, classification_report, confusion_matrix\n",
    "features =  ['Age', 'Subscription_Length_Months', 'Monthly_Bill', 'Gender_Male','Total_Usage_GB','Location_Houston','Location_Los Angeles','Location_Miami','Location_New York']\n",
    "X = data[features]\n",
    "y = data['Churn']\n",
    "X_train, X_test, y_train, y_test = train_test_split(X, y, test_size=0.2, random_state=42)\n",
    "scaler = MinMaxScaler()\n",
    "columns_to_normalize = features\n",
    "X_train[columns_to_normalize] = scaler.fit_transform(X_train[columns_to_normalize])\n",
    "X_test[columns_to_normalize] = scaler.transform(X_test[columns_to_normalize])\n"
   ]
  },
  {
   "cell_type": "code",
   "execution_count": 12,
   "id": "b3b13dcd-1855-4c44-8b63-f4d4c2398fc4",
   "metadata": {},
   "outputs": [
    {
     "data": {
      "text/html": [
       "<div>\n",
       "<style scoped>\n",
       "    .dataframe tbody tr th:only-of-type {\n",
       "        vertical-align: middle;\n",
       "    }\n",
       "\n",
       "    .dataframe tbody tr th {\n",
       "        vertical-align: top;\n",
       "    }\n",
       "\n",
       "    .dataframe thead th {\n",
       "        text-align: right;\n",
       "    }\n",
       "</style>\n",
       "<table border=\"1\" class=\"dataframe\">\n",
       "  <thead>\n",
       "    <tr style=\"text-align: right;\">\n",
       "      <th></th>\n",
       "      <th>Age</th>\n",
       "      <th>Subscription_Length_Months</th>\n",
       "      <th>Monthly_Bill</th>\n",
       "      <th>Gender_Male</th>\n",
       "      <th>Total_Usage_GB</th>\n",
       "      <th>Location_Houston</th>\n",
       "      <th>Location_Los Angeles</th>\n",
       "      <th>Location_Miami</th>\n",
       "      <th>Location_New York</th>\n",
       "    </tr>\n",
       "  </thead>\n",
       "  <tbody>\n",
       "    <tr>\n",
       "      <th>75220</th>\n",
       "      <td>0.692308</td>\n",
       "      <td>0.173913</td>\n",
       "      <td>0.778571</td>\n",
       "      <td>0.0</td>\n",
       "      <td>0.344444</td>\n",
       "      <td>0.0</td>\n",
       "      <td>0.0</td>\n",
       "      <td>0.0</td>\n",
       "      <td>1.0</td>\n",
       "    </tr>\n",
       "    <tr>\n",
       "      <th>48955</th>\n",
       "      <td>0.192308</td>\n",
       "      <td>1.000000</td>\n",
       "      <td>0.743714</td>\n",
       "      <td>1.0</td>\n",
       "      <td>0.420000</td>\n",
       "      <td>0.0</td>\n",
       "      <td>0.0</td>\n",
       "      <td>0.0</td>\n",
       "      <td>1.0</td>\n",
       "    </tr>\n",
       "    <tr>\n",
       "      <th>44966</th>\n",
       "      <td>0.750000</td>\n",
       "      <td>0.478261</td>\n",
       "      <td>0.318429</td>\n",
       "      <td>1.0</td>\n",
       "      <td>0.026667</td>\n",
       "      <td>0.0</td>\n",
       "      <td>0.0</td>\n",
       "      <td>0.0</td>\n",
       "      <td>0.0</td>\n",
       "    </tr>\n",
       "    <tr>\n",
       "      <th>13568</th>\n",
       "      <td>0.019231</td>\n",
       "      <td>0.782609</td>\n",
       "      <td>0.036714</td>\n",
       "      <td>1.0</td>\n",
       "      <td>0.273333</td>\n",
       "      <td>1.0</td>\n",
       "      <td>0.0</td>\n",
       "      <td>0.0</td>\n",
       "      <td>0.0</td>\n",
       "    </tr>\n",
       "    <tr>\n",
       "      <th>92727</th>\n",
       "      <td>0.730769</td>\n",
       "      <td>0.304348</td>\n",
       "      <td>0.050286</td>\n",
       "      <td>0.0</td>\n",
       "      <td>0.586667</td>\n",
       "      <td>0.0</td>\n",
       "      <td>0.0</td>\n",
       "      <td>1.0</td>\n",
       "      <td>0.0</td>\n",
       "    </tr>\n",
       "  </tbody>\n",
       "</table>\n",
       "</div>"
      ],
      "text/plain": [
       "            Age  Subscription_Length_Months  Monthly_Bill  Gender_Male  \\\n",
       "75220  0.692308                    0.173913      0.778571          0.0   \n",
       "48955  0.192308                    1.000000      0.743714          1.0   \n",
       "44966  0.750000                    0.478261      0.318429          1.0   \n",
       "13568  0.019231                    0.782609      0.036714          1.0   \n",
       "92727  0.730769                    0.304348      0.050286          0.0   \n",
       "\n",
       "       Total_Usage_GB  Location_Houston  Location_Los Angeles  Location_Miami  \\\n",
       "75220        0.344444               0.0                   0.0             0.0   \n",
       "48955        0.420000               0.0                   0.0             0.0   \n",
       "44966        0.026667               0.0                   0.0             0.0   \n",
       "13568        0.273333               1.0                   0.0             0.0   \n",
       "92727        0.586667               0.0                   0.0             1.0   \n",
       "\n",
       "       Location_New York  \n",
       "75220                1.0  \n",
       "48955                1.0  \n",
       "44966                0.0  \n",
       "13568                0.0  \n",
       "92727                0.0  "
      ]
     },
     "execution_count": 12,
     "metadata": {},
     "output_type": "execute_result"
    }
   ],
   "source": [
    "X_train.head()"
   ]
  },
  {
   "cell_type": "code",
   "execution_count": 13,
   "id": "a86ec066-cf1e-4233-be99-2b3a410b5e01",
   "metadata": {},
   "outputs": [
    {
     "name": "stdout",
     "output_type": "stream",
     "text": [
      "Classifier: Random Forest\n",
      "Accuracy: 0.50\n",
      "Classification Report:\n",
      "              precision    recall  f1-score   support\n",
      "\n",
      "         0.0       0.50      0.53      0.52     10079\n",
      "         1.0       0.50      0.47      0.49      9921\n",
      "\n",
      "    accuracy                           0.50     20000\n",
      "   macro avg       0.50      0.50      0.50     20000\n",
      "weighted avg       0.50      0.50      0.50     20000\n",
      "\n",
      "==================================================\n",
      "Classifier: Logistic Regression\n",
      "Accuracy: 0.50\n",
      "Classification Report:\n",
      "              precision    recall  f1-score   support\n",
      "\n",
      "         0.0       0.50      0.70      0.59     10079\n",
      "         1.0       0.49      0.29      0.37      9921\n",
      "\n",
      "    accuracy                           0.50     20000\n",
      "   macro avg       0.50      0.50      0.48     20000\n",
      "weighted avg       0.50      0.50      0.48     20000\n",
      "\n",
      "==================================================\n",
      "Classifier: K-Nearest Neighbors\n",
      "Accuracy: 0.50\n",
      "Classification Report:\n",
      "              precision    recall  f1-score   support\n",
      "\n",
      "         0.0       0.50      0.50      0.50     10079\n",
      "         1.0       0.49      0.49      0.49      9921\n",
      "\n",
      "    accuracy                           0.50     20000\n",
      "   macro avg       0.50      0.50      0.50     20000\n",
      "weighted avg       0.50      0.50      0.50     20000\n",
      "\n",
      "==================================================\n",
      "Classifier: Support Vector Classifier\n",
      "Accuracy: 0.50\n",
      "Classification Report:\n",
      "              precision    recall  f1-score   support\n",
      "\n",
      "         0.0       0.51      0.62      0.56     10079\n",
      "         1.0       0.50      0.39      0.44      9921\n",
      "\n",
      "    accuracy                           0.50     20000\n",
      "   macro avg       0.50      0.50      0.50     20000\n",
      "weighted avg       0.50      0.50      0.50     20000\n",
      "\n",
      "==================================================\n",
      "Classifier: Decision Tree\n",
      "Accuracy: 0.51\n",
      "Classification Report:\n",
      "              precision    recall  f1-score   support\n",
      "\n",
      "         0.0       0.51      0.50      0.51     10079\n",
      "         1.0       0.50      0.51      0.51      9921\n",
      "\n",
      "    accuracy                           0.51     20000\n",
      "   macro avg       0.51      0.51      0.51     20000\n",
      "weighted avg       0.51      0.51      0.51     20000\n",
      "\n",
      "==================================================\n"
     ]
    }
   ],
   "source": [
    "\n",
    "classifiers = {\n",
    "    \"Random Forest\" : RandomForestClassifier(random_state=42),\n",
    "    \"Logistic Regression\": LogisticRegression(random_state=42),\n",
    "    \"K-Nearest Neighbors\": KNeighborsClassifier(),\n",
    "    \"Support Vector Classifier\": SVC(random_state=42),\n",
    "    \"Decision Tree\": DecisionTreeClassifier(random_state=42)\n",
    "}\n",
    "results = {}\n",
    "for name, clf in classifiers.items():\n",
    "    clf.fit(X_train, y_train)\n",
    "    y_pred = clf.predict(X_test)\n",
    "    \n",
    "    accuracy = accuracy_score(y_test, y_pred)\n",
    "    class_report = classification_report(y_test, y_pred)\n",
    "    \n",
    "    results[name] = {\n",
    "        \"Accuracy\": accuracy,\n",
    "        \"Classification Report\": class_report\n",
    "    }\n",
    "for name, metrics in results.items():\n",
    "    print(f\"Classifier: {name}\")\n",
    "    print(f\"Accuracy: {metrics['Accuracy']:.2f}\")\n",
    "    print(\"Classification Report:\")\n",
    "    print(metrics['Classification Report'])\n",
    "    print(\"=\"*50)\n"
   ]
  },
  {
   "cell_type": "code",
   "execution_count": 13,
   "id": "529bafba-f4c4-46aa-9330-1c0d5f15e4b6",
   "metadata": {},
   "outputs": [],
   "source": [
    "from sklearn.model_selection import train_test_split\n",
    "from sklearn.preprocessing import StandardScaler\n",
    "from sklearn.linear_model import LinearRegression\n",
    "from sklearn.ensemble import RandomForestRegressor\n",
    "from sklearn.svm import SVR\n",
    "from sklearn.ensemble import AdaBoostRegressor\n",
    "from sklearn.neural_network import MLPRegressor\n",
    "from sklearn.gaussian_process import GaussianProcessRegressor"
   ]
  },
  {
   "cell_type": "code",
   "execution_count": 14,
   "id": "bdd07987-8d1a-4955-80b1-0204586aa4d7",
   "metadata": {},
   "outputs": [],
   "source": [
    "from sklearn.metrics import r2_score\n",
    "from sklearn.metrics import mean_squared_error\n",
    "from sklearn.metrics import explained_variance_score\n",
    "from sklearn.metrics import max_error\n",
    "from sklearn.metrics import mean_absolute_error\n",
    "from sklearn.metrics import mean_squared_log_error\n",
    "from sklearn.metrics import median_absolute_error"
   ]
  },
  {
   "cell_type": "code",
   "execution_count": 15,
   "id": "9e54b1b5-6dfe-49b0-ab6d-45a475ed3a6d",
   "metadata": {},
   "outputs": [
    {
     "data": {
      "text/plain": [
       "LinearRegression()"
      ]
     },
     "execution_count": 15,
     "metadata": {},
     "output_type": "execute_result"
    }
   ],
   "source": [
    "lm = LinearRegression()\n",
    "lm.fit(X_train,y_train)"
   ]
  },
  {
   "cell_type": "code",
   "execution_count": 16,
   "id": "53b00dbb-39a9-4eae-9995-da780394fb3f",
   "metadata": {},
   "outputs": [],
   "source": [
    "lm_pred_train = lm.predict(X_train)"
   ]
  },
  {
   "cell_type": "code",
   "execution_count": 17,
   "id": "dbc9cd9e-251c-4d9f-a637-b9cf2bd71c84",
   "metadata": {},
   "outputs": [
    {
     "name": "stdout",
     "output_type": "stream",
     "text": [
      "75721    0.0\n",
      "80184    0.0\n",
      "19864    0.0\n",
      "76699    1.0\n",
      "92991    0.0\n",
      "        ... \n",
      "32595    0.0\n",
      "29313    1.0\n",
      "37862    1.0\n",
      "53421    0.0\n",
      "42410    1.0\n",
      "Name: Churn, Length: 20000, dtype: float64 [0.48854187 0.50685092 0.49282112 ... 0.51075841 0.49962083 0.50129521]\n"
     ]
    }
   ],
   "source": [
    "lm_pred_test = lm.predict(X_test)\n",
    "print(y_test, lm_pred_test)"
   ]
  },
  {
   "cell_type": "code",
   "execution_count": 18,
   "id": "89fd735c-b441-46bd-aa8a-763732d55055",
   "metadata": {},
   "outputs": [
    {
     "name": "stdout",
     "output_type": "stream",
     "text": [
      "Training R2 0.00013603125597538845\n",
      "Training EVS 0.00013603125597527743\n",
      "Training MSE 0.2499628419895897\n",
      "Training RMSE 0.49996284060876933\n",
      "Training MAE 0.4999256839791793\n",
      "Training Max. Error 0.5161445924436805\n",
      "Training MSLE 0.12356818606045661\n",
      "Training MedAE 0.4999326064622185\n"
     ]
    }
   ],
   "source": [
    "# Compute and print the error metrics on training data\n",
    "print(\"Training R2\", r2_score (y_train, lm_pred_train))\n",
    "print(\"Training EVS\", explained_variance_score (y_train, lm_pred_train))\n",
    "print(\"Training MSE\", mean_squared_error(y_train, lm_pred_train))\n",
    "print(\"Training RMSE\", np.sqrt(mean_squared_error(y_train, lm_pred_train)))\n",
    "print(\"Training MAE\", mean_absolute_error (y_train, lm_pred_train)) \n",
    "print(\"Training Max. Error\", max_error (y_train, lm_pred_train))\n",
    "print(\"Training MSLE\", mean_squared_log_error (y_train, lm_pred_train)) \n",
    "print(\"Training MedAE\", median_absolute_error (y_train, lm_pred_train))"
   ]
  },
  {
   "cell_type": "code",
   "execution_count": 19,
   "id": "cfbe8f5f-b427-4a24-86d1-1ffe573fdb5f",
   "metadata": {},
   "outputs": [
    {
     "name": "stdout",
     "output_type": "stream",
     "text": [
      "Testing R2 -0.00010406263040452224\n",
      "Testing EVS -8.589611530540608e-05\n",
      "Testing MSE 0.2500104115339639\n",
      "Testing RMSE 0.5000104114255661\n",
      "Testing MAE 0.4999735410228508\n",
      "Testing Max. Error 0.51622706498634\n",
      "Testing MSLE 0.12376433429673471\n",
      "Testing MedAE 0.4999231945629993\n"
     ]
    }
   ],
   "source": [
    "# Compute and print the error metrics on testing data\n",
    "print(\"Testing R2\", r2_score (y_test, lm_pred_test))\n",
    "print(\"Testing EVS\", explained_variance_score (y_test, lm_pred_test))\n",
    "print(\"Testing MSE\", mean_squared_error(y_test, lm_pred_test))\n",
    "print(\"Testing RMSE\", np.sqrt(mean_squared_error(y_test, lm_pred_test)))\n",
    "print(\"Testing MAE\", mean_absolute_error (y_test, lm_pred_test)) \n",
    "print(\"Testing Max. Error\", max_error (y_test, lm_pred_test))\n",
    "print(\"Testing MSLE\", mean_squared_log_error (y_test, lm_pred_test))\n",
    "print(\"Testing MedAE\", median_absolute_error (y_test, lm_pred_test))"
   ]
  },
  {
   "cell_type": "code",
   "execution_count": 30,
   "id": "8c2eebaf-828c-4620-8040-58a44bfa3f63",
   "metadata": {},
   "outputs": [
    {
     "data": {
      "text/plain": [
       "RandomForestRegressor(n_estimators=150, random_state=99)"
      ]
     },
     "execution_count": 30,
     "metadata": {},
     "output_type": "execute_result"
    }
   ],
   "source": [
    "rf = RandomForestRegressor(n_estimators=150,random_state=99)\n",
    "rf.fit(X_train,y_train.values.ravel())"
   ]
  },
  {
   "cell_type": "code",
   "execution_count": 31,
   "id": "2b8a1f2c-d518-4286-beee-403178f4b2a2",
   "metadata": {},
   "outputs": [],
   "source": [
    "rf_pred_train = rf.predict(X_train)\n",
    "rf_pred_test = rf.predict(X_test)"
   ]
  },
  {
   "cell_type": "code",
   "execution_count": 32,
   "id": "87687407-ece1-4e74-9c99-719d5329f21d",
   "metadata": {},
   "outputs": [
    {
     "name": "stdout",
     "output_type": "stream",
     "text": [
      "Training R2 0.8555291348614777\n",
      "Training EVS 0.855529195706689\n",
      "Training MSE 0.03611726111111111\n",
      "Training RMSE 0.19004541854807\n",
      "Training MAE 0.1836431666666667\n",
      "Training Max. Error 0.4\n",
      "Training MSLE 0.01992554402998648\n",
      "Training MedAE 0.18000000000000005\n"
     ]
    }
   ],
   "source": [
    "# Compute and print the error metrics on training data\n",
    "print(\"Training R2\", r2_score (y_train, rf_pred_train))\n",
    "print(\"Training EVS\", explained_variance_score (y_train, rf_pred_train))\n",
    "print(\"Training MSE\", mean_squared_error(y_train, rf_pred_train))\n",
    "print(\"Training RMSE\", np.sqrt(mean_squared_error(y_train, rf_pred_train)))\n",
    "print(\"Training MAE\", mean_absolute_error (y_train, rf_pred_train)) \n",
    "print(\"Training Max. Error\", max_error (y_train, rf_pred_train))\n",
    "print(\"Training MSLE\", mean_squared_log_error (y_train, rf_pred_train)) \n",
    "print(\"Training MedAE\", median_absolute_error (y_train, rf_pred_train))"
   ]
  },
  {
   "cell_type": "code",
   "execution_count": 33,
   "id": "7f1c6ae9-b4e3-4970-b8ac-07d37d3ef873",
   "metadata": {},
   "outputs": [
    {
     "name": "stdout",
     "output_type": "stream",
     "text": [
      "Testing R2 -0.049626173836175846\n",
      "Testing EVS -0.04961550641442214\n",
      "Testing MSE 0.26239016666666665\n",
      "Testing RMSE 0.5122403407255881\n",
      "Testing MAE 0.5004876666666667\n",
      "Testing Max. Error 0.86\n",
      "Testing MSLE 0.12898939692442135\n",
      "Testing MedAE 0.5\n"
     ]
    }
   ],
   "source": [
    "# Compute and print the error metrics on testing data\n",
    "print(\"Testing R2\", r2_score (y_test, rf_pred_test))\n",
    "print(\"Testing EVS\", explained_variance_score (y_test, rf_pred_test))\n",
    "print(\"Testing MSE\", mean_squared_error(y_test, rf_pred_test))\n",
    "print(\"Testing RMSE\", np.sqrt(mean_squared_error(y_test, rf_pred_test)))\n",
    "print(\"Testing MAE\", mean_absolute_error (y_test, rf_pred_test)) \n",
    "print(\"Testing Max. Error\", max_error (y_test, rf_pred_test))\n",
    "print(\"Testing MSLE\", mean_squared_log_error (y_test, rf_pred_test))\n",
    "print(\"Testing MedAE\", median_absolute_error (y_test, rf_pred_test))"
   ]
  },
  {
   "cell_type": "code",
   "execution_count": 34,
   "id": "e64d55f1-0426-4eab-b728-d254dd85d954",
   "metadata": {},
   "outputs": [
    {
     "name": "stdout",
     "output_type": "stream",
     "text": [
      "Fitting 5 folds for each of 25 candidates, totalling 125 fits\n",
      "[CV 1/5] END .......C=0.1, gamma=1, kernel=rbf;, score=-0.261 total time= 4.7min\n",
      "[CV 2/5] END .......C=0.1, gamma=1, kernel=rbf;, score=-0.288 total time= 9.4min\n",
      "[CV 3/5] END .......C=0.1, gamma=1, kernel=rbf;, score=-0.265 total time= 4.7min\n",
      "[CV 4/5] END .......C=0.1, gamma=1, kernel=rbf;, score=-0.256 total time= 4.7min\n",
      "[CV 5/5] END .......C=0.1, gamma=1, kernel=rbf;, score=-0.278 total time= 9.3min\n",
      "[CV 1/5] END .....C=0.1, gamma=0.1, kernel=rbf;, score=-0.312 total time= 4.7min\n"
     ]
    },
    {
     "name": "stderr",
     "output_type": "stream",
     "text": [
      "\n",
      "KeyboardInterrupt\n",
      "\n"
     ]
    }
   ],
   "source": [
    "from sklearn.model_selection import GridSearchCV\n",
    "param_grid = {'C': [0.1,1, 10, 100, 1000], 'gamma': [1,0.1,0.01,0.001,0.0001], 'kernel': ['rbf']} \n",
    "grid_SVM = GridSearchCV(SVR(),param_grid,refit=True,verbose=3)\n",
    "grid_SVM.fit(X_train,y_train.values.ravel())"
   ]
  },
  {
   "cell_type": "code",
   "execution_count": 35,
   "id": "c4439a40-ac31-4ed2-bd18-8dae09bfab63",
   "metadata": {},
   "outputs": [
    {
     "data": {
      "text/plain": [
       "AdaBoostRegressor(n_estimators=10, random_state=99)"
      ]
     },
     "execution_count": 35,
     "metadata": {},
     "output_type": "execute_result"
    }
   ],
   "source": [
    "adb = AdaBoostRegressor(n_estimators=10,random_state=99)\n",
    "adb.fit(X_train,y_train.values.ravel())"
   ]
  },
  {
   "cell_type": "code",
   "execution_count": 36,
   "id": "9db42f5b-8582-4b03-9bc7-0ad43d080c7c",
   "metadata": {},
   "outputs": [],
   "source": [
    "adb_pred_train = adb.predict(X_train)\n",
    "adb_pred_test = adb.predict(X_test)"
   ]
  },
  {
   "cell_type": "code",
   "execution_count": 37,
   "id": "0d8b5fdd-c3d2-49d4-a600-5e841cc00eef",
   "metadata": {},
   "outputs": [
    {
     "name": "stdout",
     "output_type": "stream",
     "text": [
      "Training R2 -6.77426538124859e-05\n",
      "Training EVS -6.288449391655959e-05\n",
      "Training MSE 0.2500137848250215\n",
      "Training RMSE 0.5000137846350053\n",
      "Training MAE 0.49974467105981896\n",
      "Training Max. Error 0.8148148148148148\n",
      "Training MSLE 0.12349361466872287\n",
      "Training MedAE 0.49388203304747963\n"
     ]
    }
   ],
   "source": [
    "# Compute and print the error metrics on training data\n",
    "print(\"Training R2\", r2_score (y_train, adb_pred_train))\n",
    "print(\"Training EVS\", explained_variance_score (y_train, adb_pred_train))\n",
    "print(\"Training MSE\", mean_squared_error(y_train, adb_pred_train))\n",
    "print(\"Training RMSE\", np.sqrt(mean_squared_error(y_train, adb_pred_train)))\n",
    "print(\"Training MAE\", mean_absolute_error (y_train, adb_pred_train)) \n",
    "print(\"Training Max. Error\", max_error (y_train, adb_pred_train))\n",
    "print(\"Training MSLE\", mean_squared_log_error (y_train, adb_pred_train)) \n",
    "print(\"Training MedAE\", median_absolute_error (y_train, adb_pred_train))"
   ]
  },
  {
   "cell_type": "code",
   "execution_count": 38,
   "id": "60ede46b-2352-408e-8353-53413b9ad477",
   "metadata": {},
   "outputs": [
    {
     "name": "stdout",
     "output_type": "stream",
     "text": [
      "Testing R2 -0.001051968670044534\n",
      "Testing EVS -0.0010480923014097865\n",
      "Testing MSE 0.25024737325416996\n",
      "Testing RMSE 0.5002473120908997\n",
      "Testing MAE 0.5000032744871977\n",
      "Testing Max. Error 0.8148148148148148\n",
      "Testing MSLE 0.12377570499533022\n",
      "Testing MedAE 0.49388203304747963\n"
     ]
    }
   ],
   "source": [
    "# Compute and print the error metrics on testing data\n",
    "print(\"Testing R2\", r2_score (y_test, adb_pred_test))\n",
    "print(\"Testing EVS\", explained_variance_score (y_test, adb_pred_test))\n",
    "print(\"Testing MSE\", mean_squared_error(y_test, adb_pred_test))\n",
    "print(\"Testing RMSE\", np.sqrt(mean_squared_error(y_test, adb_pred_test)))\n",
    "print(\"Testing MAE\", mean_absolute_error (y_test, adb_pred_test)) \n",
    "print(\"Testing Max. Error\", max_error (y_test, adb_pred_test))\n",
    "print(\"Testing MSLE\", mean_squared_log_error (y_test, adb_pred_test))\n",
    "print(\"Testing MedAE\", median_absolute_error (y_test, adb_pred_test))"
   ]
  },
  {
   "cell_type": "code",
   "execution_count": 39,
   "id": "b71e3d15-fc71-4c2e-a0e2-07cfdc21c7fc",
   "metadata": {},
   "outputs": [],
   "source": [
    "gpr = GaussianProcessRegressor(random_state=99)"
   ]
  },
  {
   "cell_type": "code",
   "execution_count": 40,
   "id": "0b0dba29-03db-44ef-9a32-70d18c086414",
   "metadata": {},
   "outputs": [
    {
     "ename": "MemoryError",
     "evalue": "Unable to allocate 47.7 GiB for an array with shape (80000, 80000) and data type float64",
     "output_type": "error",
     "traceback": [
      "\u001b[1;31m---------------------------------------------------------------------------\u001b[0m",
      "\u001b[1;31mMemoryError\u001b[0m                               Traceback (most recent call last)",
      "Input \u001b[1;32mIn [40]\u001b[0m, in \u001b[0;36m<cell line: 1>\u001b[1;34m()\u001b[0m\n\u001b[1;32m----> 1\u001b[0m \u001b[43mgpr\u001b[49m\u001b[38;5;241;43m.\u001b[39;49m\u001b[43mfit\u001b[49m\u001b[43m(\u001b[49m\u001b[43mX_train\u001b[49m\u001b[43m,\u001b[49m\u001b[43my_train\u001b[49m\u001b[43m)\u001b[49m\n",
      "File \u001b[1;32m~\\anaconda3\\lib\\site-packages\\sklearn\\gaussian_process\\_gpr.py:300\u001b[0m, in \u001b[0;36mGaussianProcessRegressor.fit\u001b[1;34m(self, X, y)\u001b[0m\n\u001b[0;32m    298\u001b[0m     \u001b[38;5;28mself\u001b[39m\u001b[38;5;241m.\u001b[39mlog_marginal_likelihood_value_ \u001b[38;5;241m=\u001b[39m \u001b[38;5;241m-\u001b[39mnp\u001b[38;5;241m.\u001b[39mmin(lml_values)\n\u001b[0;32m    299\u001b[0m \u001b[38;5;28;01melse\u001b[39;00m:\n\u001b[1;32m--> 300\u001b[0m     \u001b[38;5;28mself\u001b[39m\u001b[38;5;241m.\u001b[39mlog_marginal_likelihood_value_ \u001b[38;5;241m=\u001b[39m \u001b[38;5;28;43mself\u001b[39;49m\u001b[38;5;241;43m.\u001b[39;49m\u001b[43mlog_marginal_likelihood\u001b[49m\u001b[43m(\u001b[49m\n\u001b[0;32m    301\u001b[0m \u001b[43m        \u001b[49m\u001b[38;5;28;43mself\u001b[39;49m\u001b[38;5;241;43m.\u001b[39;49m\u001b[43mkernel_\u001b[49m\u001b[38;5;241;43m.\u001b[39;49m\u001b[43mtheta\u001b[49m\u001b[43m,\u001b[49m\u001b[43m \u001b[49m\u001b[43mclone_kernel\u001b[49m\u001b[38;5;241;43m=\u001b[39;49m\u001b[38;5;28;43;01mFalse\u001b[39;49;00m\n\u001b[0;32m    302\u001b[0m \u001b[43m    \u001b[49m\u001b[43m)\u001b[49m\n\u001b[0;32m    304\u001b[0m \u001b[38;5;66;03m# Precompute quantities required for predictions which are independent\u001b[39;00m\n\u001b[0;32m    305\u001b[0m \u001b[38;5;66;03m# of actual query points\u001b[39;00m\n\u001b[0;32m    306\u001b[0m \u001b[38;5;66;03m# Alg. 2.1, page 19, line 2 -> L = cholesky(K + sigma^2 I)\u001b[39;00m\n\u001b[0;32m    307\u001b[0m K \u001b[38;5;241m=\u001b[39m \u001b[38;5;28mself\u001b[39m\u001b[38;5;241m.\u001b[39mkernel_(\u001b[38;5;28mself\u001b[39m\u001b[38;5;241m.\u001b[39mX_train_)\n",
      "File \u001b[1;32m~\\anaconda3\\lib\\site-packages\\sklearn\\gaussian_process\\_gpr.py:529\u001b[0m, in \u001b[0;36mGaussianProcessRegressor.log_marginal_likelihood\u001b[1;34m(self, theta, eval_gradient, clone_kernel)\u001b[0m\n\u001b[0;32m    527\u001b[0m     K, K_gradient \u001b[38;5;241m=\u001b[39m kernel(\u001b[38;5;28mself\u001b[39m\u001b[38;5;241m.\u001b[39mX_train_, eval_gradient\u001b[38;5;241m=\u001b[39m\u001b[38;5;28;01mTrue\u001b[39;00m)\n\u001b[0;32m    528\u001b[0m \u001b[38;5;28;01melse\u001b[39;00m:\n\u001b[1;32m--> 529\u001b[0m     K \u001b[38;5;241m=\u001b[39m \u001b[43mkernel\u001b[49m\u001b[43m(\u001b[49m\u001b[38;5;28;43mself\u001b[39;49m\u001b[38;5;241;43m.\u001b[39;49m\u001b[43mX_train_\u001b[49m\u001b[43m)\u001b[49m\n\u001b[0;32m    531\u001b[0m \u001b[38;5;66;03m# Alg. 2.1, page 19, line 2 -> L = cholesky(K + sigma^2 I)\u001b[39;00m\n\u001b[0;32m    532\u001b[0m K[np\u001b[38;5;241m.\u001b[39mdiag_indices_from(K)] \u001b[38;5;241m+\u001b[39m\u001b[38;5;241m=\u001b[39m \u001b[38;5;28mself\u001b[39m\u001b[38;5;241m.\u001b[39malpha\n",
      "File \u001b[1;32m~\\anaconda3\\lib\\site-packages\\sklearn\\gaussian_process\\kernels.py:946\u001b[0m, in \u001b[0;36mProduct.__call__\u001b[1;34m(self, X, Y, eval_gradient)\u001b[0m\n\u001b[0;32m    942\u001b[0m     \u001b[38;5;28;01mreturn\u001b[39;00m K1 \u001b[38;5;241m*\u001b[39m K2, np\u001b[38;5;241m.\u001b[39mdstack(\n\u001b[0;32m    943\u001b[0m         (K1_gradient \u001b[38;5;241m*\u001b[39m K2[:, :, np\u001b[38;5;241m.\u001b[39mnewaxis], K2_gradient \u001b[38;5;241m*\u001b[39m K1[:, :, np\u001b[38;5;241m.\u001b[39mnewaxis])\n\u001b[0;32m    944\u001b[0m     )\n\u001b[0;32m    945\u001b[0m \u001b[38;5;28;01melse\u001b[39;00m:\n\u001b[1;32m--> 946\u001b[0m     \u001b[38;5;28;01mreturn\u001b[39;00m \u001b[38;5;28;43mself\u001b[39;49m\u001b[38;5;241;43m.\u001b[39;49m\u001b[43mk1\u001b[49m\u001b[43m(\u001b[49m\u001b[43mX\u001b[49m\u001b[43m,\u001b[49m\u001b[43m \u001b[49m\u001b[43mY\u001b[49m\u001b[43m)\u001b[49m \u001b[38;5;241m*\u001b[39m \u001b[38;5;28mself\u001b[39m\u001b[38;5;241m.\u001b[39mk2(X, Y)\n",
      "File \u001b[1;32m~\\anaconda3\\lib\\site-packages\\sklearn\\gaussian_process\\kernels.py:1253\u001b[0m, in \u001b[0;36mConstantKernel.__call__\u001b[1;34m(self, X, Y, eval_gradient)\u001b[0m\n\u001b[0;32m   1250\u001b[0m \u001b[38;5;28;01melif\u001b[39;00m eval_gradient:\n\u001b[0;32m   1251\u001b[0m     \u001b[38;5;28;01mraise\u001b[39;00m \u001b[38;5;167;01mValueError\u001b[39;00m(\u001b[38;5;124m\"\u001b[39m\u001b[38;5;124mGradient can only be evaluated when Y is None.\u001b[39m\u001b[38;5;124m\"\u001b[39m)\n\u001b[1;32m-> 1253\u001b[0m K \u001b[38;5;241m=\u001b[39m \u001b[43mnp\u001b[49m\u001b[38;5;241;43m.\u001b[39;49m\u001b[43mfull\u001b[49m\u001b[43m(\u001b[49m\n\u001b[0;32m   1254\u001b[0m \u001b[43m    \u001b[49m\u001b[43m(\u001b[49m\u001b[43m_num_samples\u001b[49m\u001b[43m(\u001b[49m\u001b[43mX\u001b[49m\u001b[43m)\u001b[49m\u001b[43m,\u001b[49m\u001b[43m \u001b[49m\u001b[43m_num_samples\u001b[49m\u001b[43m(\u001b[49m\u001b[43mY\u001b[49m\u001b[43m)\u001b[49m\u001b[43m)\u001b[49m\u001b[43m,\u001b[49m\n\u001b[0;32m   1255\u001b[0m \u001b[43m    \u001b[49m\u001b[38;5;28;43mself\u001b[39;49m\u001b[38;5;241;43m.\u001b[39;49m\u001b[43mconstant_value\u001b[49m\u001b[43m,\u001b[49m\n\u001b[0;32m   1256\u001b[0m \u001b[43m    \u001b[49m\u001b[43mdtype\u001b[49m\u001b[38;5;241;43m=\u001b[39;49m\u001b[43mnp\u001b[49m\u001b[38;5;241;43m.\u001b[39;49m\u001b[43marray\u001b[49m\u001b[43m(\u001b[49m\u001b[38;5;28;43mself\u001b[39;49m\u001b[38;5;241;43m.\u001b[39;49m\u001b[43mconstant_value\u001b[49m\u001b[43m)\u001b[49m\u001b[38;5;241;43m.\u001b[39;49m\u001b[43mdtype\u001b[49m\u001b[43m,\u001b[49m\n\u001b[0;32m   1257\u001b[0m \u001b[43m\u001b[49m\u001b[43m)\u001b[49m\n\u001b[0;32m   1258\u001b[0m \u001b[38;5;28;01mif\u001b[39;00m eval_gradient:\n\u001b[0;32m   1259\u001b[0m     \u001b[38;5;28;01mif\u001b[39;00m \u001b[38;5;129;01mnot\u001b[39;00m \u001b[38;5;28mself\u001b[39m\u001b[38;5;241m.\u001b[39mhyperparameter_constant_value\u001b[38;5;241m.\u001b[39mfixed:\n",
      "File \u001b[1;32m~\\anaconda3\\lib\\site-packages\\numpy\\core\\numeric.py:343\u001b[0m, in \u001b[0;36mfull\u001b[1;34m(shape, fill_value, dtype, order, like)\u001b[0m\n\u001b[0;32m    341\u001b[0m     fill_value \u001b[38;5;241m=\u001b[39m asarray(fill_value)\n\u001b[0;32m    342\u001b[0m     dtype \u001b[38;5;241m=\u001b[39m fill_value\u001b[38;5;241m.\u001b[39mdtype\n\u001b[1;32m--> 343\u001b[0m a \u001b[38;5;241m=\u001b[39m \u001b[43mempty\u001b[49m\u001b[43m(\u001b[49m\u001b[43mshape\u001b[49m\u001b[43m,\u001b[49m\u001b[43m \u001b[49m\u001b[43mdtype\u001b[49m\u001b[43m,\u001b[49m\u001b[43m \u001b[49m\u001b[43morder\u001b[49m\u001b[43m)\u001b[49m\n\u001b[0;32m    344\u001b[0m multiarray\u001b[38;5;241m.\u001b[39mcopyto(a, fill_value, casting\u001b[38;5;241m=\u001b[39m\u001b[38;5;124m'\u001b[39m\u001b[38;5;124munsafe\u001b[39m\u001b[38;5;124m'\u001b[39m)\n\u001b[0;32m    345\u001b[0m \u001b[38;5;28;01mreturn\u001b[39;00m a\n",
      "\u001b[1;31mMemoryError\u001b[0m: Unable to allocate 47.7 GiB for an array with shape (80000, 80000) and data type float64"
     ]
    }
   ],
   "source": [
    "gpr.fit(X_train,y_train)"
   ]
  },
  {
   "cell_type": "code",
   "execution_count": null,
   "id": "c50d0b27-c88f-459f-a1f2-e35b6df6e079",
   "metadata": {},
   "outputs": [],
   "source": []
  },
  {
   "cell_type": "code",
   "execution_count": null,
   "id": "b5654117-d6c4-4bdf-9155-a842b49242cc",
   "metadata": {},
   "outputs": [],
   "source": []
  },
  {
   "cell_type": "code",
   "execution_count": null,
   "id": "f0fc81d2-e6e5-43e2-a8db-1777a297d692",
   "metadata": {},
   "outputs": [],
   "source": []
  },
  {
   "cell_type": "code",
   "execution_count": null,
   "id": "e5658388-1a9e-4f48-b320-bde1f4c9e3e8",
   "metadata": {},
   "outputs": [],
   "source": []
  },
  {
   "cell_type": "code",
   "execution_count": null,
   "id": "2312d260-1f60-42e9-8e53-0c7cbc2e0007",
   "metadata": {},
   "outputs": [],
   "source": []
  },
  {
   "cell_type": "code",
   "execution_count": null,
   "id": "a4f1052c-15f2-45b0-afa5-3f2a74c6f4d9",
   "metadata": {},
   "outputs": [],
   "source": []
  },
  {
   "cell_type": "code",
   "execution_count": null,
   "id": "72e89a0c-689a-472d-9725-60695ea13b02",
   "metadata": {},
   "outputs": [],
   "source": []
  },
  {
   "cell_type": "code",
   "execution_count": null,
   "id": "2212bbd8-94ce-443a-93ad-6dc43d251db5",
   "metadata": {},
   "outputs": [],
   "source": []
  },
  {
   "cell_type": "code",
   "execution_count": null,
   "id": "d59433ad-019f-4c96-8b2f-ca4469058160",
   "metadata": {},
   "outputs": [],
   "source": []
  },
  {
   "cell_type": "code",
   "execution_count": null,
   "id": "2668a562-3b7e-4a53-ae80-16e3a8755f9c",
   "metadata": {},
   "outputs": [],
   "source": []
  },
  {
   "cell_type": "code",
   "execution_count": null,
   "id": "787e1a77-8577-4fca-8705-2bdb513ab1a5",
   "metadata": {},
   "outputs": [],
   "source": []
  }
 ],
 "metadata": {
  "kernelspec": {
   "display_name": "Python 3 (ipykernel)",
   "language": "python",
   "name": "python3"
  },
  "language_info": {
   "codemirror_mode": {
    "name": "ipython",
    "version": 3
   },
   "file_extension": ".py",
   "mimetype": "text/x-python",
   "name": "python",
   "nbconvert_exporter": "python",
   "pygments_lexer": "ipython3",
   "version": "3.9.12"
  }
 },
 "nbformat": 4,
 "nbformat_minor": 5
}
